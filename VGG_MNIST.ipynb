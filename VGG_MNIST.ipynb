{
 "cells": [
  {
   "cell_type": "code",
   "execution_count": 1,
   "metadata": {},
   "outputs": [
    {
     "name": "stderr",
     "output_type": "stream",
     "text": [
      "Using TensorFlow backend.\n"
     ]
    }
   ],
   "source": [
    "import cv2\n",
    "import numpy as np\n",
    "from keras.applications.vgg16 import VGG16\n",
    "from keras.layers import Input\n",
    "from keras.layers import Flatten\n",
    "from keras.layers import Dense\n",
    "from keras.layers import Dropout\n",
    "from keras.models import Model\n",
    "from keras.utils import np_utils\n",
    "from keras.datasets import mnist"
   ]
  },
  {
   "cell_type": "code",
   "execution_count": 2,
   "metadata": {},
   "outputs": [],
   "source": [
    "epochs = 10\n",
    "batch_size = 50\n",
    "row_col = 48"
   ]
  },
  {
   "cell_type": "code",
   "execution_count": 3,
   "metadata": {},
   "outputs": [],
   "source": [
    "# 原始的 MNIST 是 6000 筆 28*28 灰階\n",
    "def load_data():\n",
    "    (X_train, y_train), (X_test, y_test) = mnist.load_data()\n",
    "    X_train, y_train = X_train[:5000], y_train[:5000]\n",
    "    X_test, y_test = X_test[5000:6000], y_test[5000:6000]\n",
    "    X_train = [cv2.cvtColor(cv2.resize(i, (row_col, row_col)), cv2.COLOR_GRAY2RGB)\n",
    "            for i in X_train]\n",
    "    X_train = np.concatenate([arr[np.newaxis] for arr in X_train]).astype('float32')\n",
    "    X_test = [cv2.cvtColor(cv2.resize(i, (row_col, row_col)), cv2.COLOR_GRAY2RGB)\n",
    "            for i in X_test]\n",
    "    X_test = np.concatenate([arr[np.newaxis] for arr in X_test]).astype('float32')\n",
    "\n",
    "    X_train = X_train / 255\n",
    "    X_test = X_test / 255\n",
    "\n",
    "    y_train_ohe = np_utils.to_categorical(y_train, 10)\n",
    "    y_test_ohe = np_utils.to_categorical(y_test, 10)\n",
    "\n",
    "    return (X_train, y_train_ohe), (X_test, y_test_ohe)\n",
    " \n",
    "def load_model():\n",
    "    base_network = VGG16(include_top=False, weights='imagenet', input_shape=(row_col, row_col, 3))\n",
    " \n",
    "    # 凍結預設的參數\n",
    "    for layer in base_network.layers:\n",
    "        layer.trainable = False\n",
    " \n",
    "    # 接上自行定義的全連結層\n",
    "    model = Flatten()(base_network.output)\n",
    "    model = Dense(4096, activation='relu', name='full_connect_1')(model)\n",
    "    model = Dense(4096, activation='relu', name='full_connect_2')(model)\n",
    "    model = Dropout(0.5)(model)\n",
    "    model = Dense(10, activation='softmax', name='prediction')(model)\n",
    "    model = Model(base_network.input, model, name='my_model')\n",
    "\n",
    "    return model"
   ]
  },
  {
   "cell_type": "code",
   "execution_count": 4,
   "metadata": {},
   "outputs": [
    {
     "name": "stdout",
     "output_type": "stream",
     "text": [
      "WARNING:tensorflow:From C:\\Users\\Ray\\Anaconda3\\envs\\tensorflow\\lib\\site-packages\\tensorflow\\python\\framework\\op_def_library.py:263: colocate_with (from tensorflow.python.framework.ops) is deprecated and will be removed in a future version.\n",
      "Instructions for updating:\n",
      "Colocations handled automatically by placer.\n",
      "Downloading data from https://github.com/fchollet/deep-learning-models/releases/download/v0.1/vgg16_weights_tf_dim_ordering_tf_kernels_notop.h5\n",
      "58892288/58889256 [==============================] - 79s 1us/step\n",
      "WARNING:tensorflow:From C:\\Users\\Ray\\Anaconda3\\envs\\tensorflow\\lib\\site-packages\\keras\\backend\\tensorflow_backend.py:3445: calling dropout (from tensorflow.python.ops.nn_ops) with keep_prob is deprecated and will be removed in a future version.\n",
      "Instructions for updating:\n",
      "Please use `rate` instead of `keep_prob`. Rate should be set to `rate = 1 - keep_prob`.\n",
      "_________________________________________________________________\n",
      "Layer (type)                 Output Shape              Param #   \n",
      "=================================================================\n",
      "input_1 (InputLayer)         (None, 48, 48, 3)         0         \n",
      "_________________________________________________________________\n",
      "block1_conv1 (Conv2D)        (None, 48, 48, 64)        1792      \n",
      "_________________________________________________________________\n",
      "block1_conv2 (Conv2D)        (None, 48, 48, 64)        36928     \n",
      "_________________________________________________________________\n",
      "block1_pool (MaxPooling2D)   (None, 24, 24, 64)        0         \n",
      "_________________________________________________________________\n",
      "block2_conv1 (Conv2D)        (None, 24, 24, 128)       73856     \n",
      "_________________________________________________________________\n",
      "block2_conv2 (Conv2D)        (None, 24, 24, 128)       147584    \n",
      "_________________________________________________________________\n",
      "block2_pool (MaxPooling2D)   (None, 12, 12, 128)       0         \n",
      "_________________________________________________________________\n",
      "block3_conv1 (Conv2D)        (None, 12, 12, 256)       295168    \n",
      "_________________________________________________________________\n",
      "block3_conv2 (Conv2D)        (None, 12, 12, 256)       590080    \n",
      "_________________________________________________________________\n",
      "block3_conv3 (Conv2D)        (None, 12, 12, 256)       590080    \n",
      "_________________________________________________________________\n",
      "block3_pool (MaxPooling2D)   (None, 6, 6, 256)         0         \n",
      "_________________________________________________________________\n",
      "block4_conv1 (Conv2D)        (None, 6, 6, 512)         1180160   \n",
      "_________________________________________________________________\n",
      "block4_conv2 (Conv2D)        (None, 6, 6, 512)         2359808   \n",
      "_________________________________________________________________\n",
      "block4_conv3 (Conv2D)        (None, 6, 6, 512)         2359808   \n",
      "_________________________________________________________________\n",
      "block4_pool (MaxPooling2D)   (None, 3, 3, 512)         0         \n",
      "_________________________________________________________________\n",
      "block5_conv1 (Conv2D)        (None, 3, 3, 512)         2359808   \n",
      "_________________________________________________________________\n",
      "block5_conv2 (Conv2D)        (None, 3, 3, 512)         2359808   \n",
      "_________________________________________________________________\n",
      "block5_conv3 (Conv2D)        (None, 3, 3, 512)         2359808   \n",
      "_________________________________________________________________\n",
      "block5_pool (MaxPooling2D)   (None, 1, 1, 512)         0         \n",
      "_________________________________________________________________\n",
      "flatten_1 (Flatten)          (None, 512)               0         \n",
      "_________________________________________________________________\n",
      "full_connect_1 (Dense)       (None, 4096)              2101248   \n",
      "_________________________________________________________________\n",
      "full_connect_2 (Dense)       (None, 4096)              16781312  \n",
      "_________________________________________________________________\n",
      "dropout_1 (Dropout)          (None, 4096)              0         \n",
      "_________________________________________________________________\n",
      "prediction (Dense)           (None, 10)                40970     \n",
      "=================================================================\n",
      "Total params: 33,638,218\n",
      "Trainable params: 18,923,530\n",
      "Non-trainable params: 14,714,688\n",
      "_________________________________________________________________\n",
      "Train Size: (5000, 48, 48, 3)\n",
      "Test Size: (1000, 48, 48, 3)\n",
      "WARNING:tensorflow:From C:\\Users\\Ray\\Anaconda3\\envs\\tensorflow\\lib\\site-packages\\tensorflow\\python\\ops\\math_ops.py:3066: to_int32 (from tensorflow.python.ops.math_ops) is deprecated and will be removed in a future version.\n",
      "Instructions for updating:\n",
      "Use tf.cast instead.\n",
      "Train on 5000 samples, validate on 1000 samples\n",
      "Epoch 1/10\n",
      "5000/5000 [==============================] - 7s 1ms/step - loss: 1.3781 - acc: 0.5464 - val_loss: 0.8946 - val_acc: 0.6890\n",
      "Epoch 2/10\n",
      "5000/5000 [==============================] - 4s 793us/step - loss: 0.7310 - acc: 0.7676 - val_loss: 0.6404 - val_acc: 0.7730\n",
      "Epoch 3/10\n",
      "5000/5000 [==============================] - 4s 793us/step - loss: 0.5681 - acc: 0.8108 - val_loss: 0.4082 - val_acc: 0.8960\n",
      "Epoch 4/10\n",
      "5000/5000 [==============================] - 4s 787us/step - loss: 0.4751 - acc: 0.8484 - val_loss: 0.3339 - val_acc: 0.8840\n",
      "Epoch 5/10\n",
      "5000/5000 [==============================] - 4s 795us/step - loss: 0.4266 - acc: 0.8628 - val_loss: 0.4102 - val_acc: 0.8720\n",
      "Epoch 6/10\n",
      "5000/5000 [==============================] - 4s 798us/step - loss: 0.3595 - acc: 0.8810 - val_loss: 0.3215 - val_acc: 0.8910\n",
      "Epoch 7/10\n",
      "5000/5000 [==============================] - 4s 789us/step - loss: 0.3696 - acc: 0.8824 - val_loss: 0.2554 - val_acc: 0.9260\n",
      "Epoch 8/10\n",
      "5000/5000 [==============================] - 4s 802us/step - loss: 0.3270 - acc: 0.8922 - val_loss: 0.2477 - val_acc: 0.9350\n",
      "Epoch 9/10\n",
      "5000/5000 [==============================] - 4s 790us/step - loss: 0.2949 - acc: 0.9066 - val_loss: 0.3948 - val_acc: 0.8470\n",
      "Epoch 10/10\n",
      "5000/5000 [==============================] - 4s 791us/step - loss: 0.2581 - acc: 0.9186 - val_loss: 0.1982 - val_acc: 0.9460\n",
      "5000/5000 [==============================] - 3s 644us/step\n",
      "Train Acc: 0.943\n",
      "1000/1000 [==============================] - 1s 581us/step\n",
      "Test Acc: 0.946\n"
     ]
    }
   ],
   "source": [
    "# 載入模型\n",
    "model = load_model()\n",
    "model.summary()\n",
    " \n",
    "# 載入訓練資料\n",
    "(x_train, y_train_ohe), (x_test, y_test_ohe) = load_data()\n",
    "print('Train Size:', x_train.shape)\n",
    "print('Test Size:', x_test.shape)\n",
    " \n",
    "#定義 loss function\n",
    "from keras.optimizers import SGD\n",
    "sgd = SGD(lr=0.05, decay=1e-5)\n",
    "model.compile(loss='categorical_crossentropy', optimizer=sgd, metrics=['accuracy'])\n",
    " \n",
    "# 開始訓練\n",
    "model.fit(x_train, y_train_ohe, validation_data=(x_test, y_test_ohe), epochs=epochs, batch_size=batch_size)\n",
    " \n",
    "# 輸出結果\n",
    "print('Train Acc:', model.evaluate(x_train, y_train_ohe)[1])\n",
    "print('Test Acc:', model.evaluate(x_test, y_test_ohe)[1])"
   ]
  },
  {
   "cell_type": "code",
   "execution_count": 5,
   "metadata": {},
   "outputs": [
    {
     "data": {
      "text/plain": [
       "(array([9], dtype=int64),)"
      ]
     },
     "execution_count": 5,
     "metadata": {},
     "output_type": "execute_result"
    }
   ],
   "source": [
    "np.where(y_test_ohe[1]==1)"
   ]
  },
  {
   "cell_type": "code",
   "execution_count": 7,
   "metadata": {},
   "outputs": [
    {
     "data": {
      "text/plain": [
       "<matplotlib.image.AxesImage at 0x1d8f7312c50>"
      ]
     },
     "execution_count": 7,
     "metadata": {},
     "output_type": "execute_result"
    },
    {
     "data": {
      "image/png": "[encoded data removed]",
      "text/plain": [
       "<Figure size 432x288 with 1 Axes>"
      ]
     },
     "metadata": {
      "needs_background": "light"
     },
     "output_type": "display_data"
    }
   ],
   "source": [
    "from matplotlib.pyplot import imshow\n",
    "imshow(x_test[1])"
   ]
  },
  {
   "cell_type": "code",
   "execution_count": null,
   "metadata": {},
   "outputs": [],
   "source": []
  }
 ],
 "metadata": {
  "kernelspec": {
   "display_name": "Python 3",
   "language": "python",
   "name": "python3"
  },
  "language_info": {
   "codemirror_mode": {
    "name": "ipython",
    "version": 3
   },
   "file_extension": ".py",
   "mimetype": "text/x-python",
   "name": "python",
   "nbconvert_exporter": "python",
   "pygments_lexer": "ipython3",
   "version": "3.6.8"
  }
 },
 "nbformat": 4,
 "nbformat_minor": 2
}
